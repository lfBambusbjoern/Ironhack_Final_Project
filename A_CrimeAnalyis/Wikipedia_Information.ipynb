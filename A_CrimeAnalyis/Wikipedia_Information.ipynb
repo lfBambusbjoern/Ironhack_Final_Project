{
 "cells": [
  {
   "cell_type": "code",
   "execution_count": 4,
   "id": "4f3182b6",
   "metadata": {},
   "outputs": [],
   "source": [
    "import pandas as pd\n",
    "import requests \n",
    "from bs4 import BeautifulSoup\n",
    "import re"
   ]
  },
  {
   "cell_type": "code",
   "execution_count": 5,
   "id": "dca32d7b",
   "metadata": {},
   "outputs": [],
   "source": [
    "birth_names = []\n",
    "\n",
    "url = \"https://en.wikipedia.org/wiki/Scott_La_Rock\" # loop later.\n",
    "response = requests.get(url)\n",
    "soup = BeautifulSoup(response.text, 'html.parser')\n",
    "text = soup.find('table', class_='infobox vcard plainlist').find_all('td')\n",
    "\n",
    "birth_name = text[0].text\n",
    "birth_names.append(birth_name)\n",
    "\n",
    "## Attach more as soon as it works flawless."
   ]
  },
  {
   "cell_type": "code",
   "execution_count": 6,
   "id": "e9147a01",
   "metadata": {},
   "outputs": [
    {
     "data": {
      "text/plain": [
       "['Scott Monroe Sterling']"
      ]
     },
     "execution_count": 6,
     "metadata": {},
     "output_type": "execute_result"
    }
   ],
   "source": [
    "birth_names"
   ]
  },
  {
   "cell_type": "code",
   "execution_count": null,
   "id": "c2f99a13",
   "metadata": {},
   "outputs": [],
   "source": []
  },
  {
   "cell_type": "code",
   "execution_count": 17,
   "id": "c5cc4dc0",
   "metadata": {},
   "outputs": [],
   "source": [
    "from bs4 import BeautifulSoup\n",
    "from selenium import webdriver\n",
    "from webdriver_manager.chrome import ChromeDriverManager"
   ]
  },
  {
   "cell_type": "code",
   "execution_count": 18,
   "id": "d1fc5130",
   "metadata": {},
   "outputs": [],
   "source": [
    "chrome_options = webdriver.ChromeOptions()\n",
    "chrome_options.add_argument(\"--headless\")"
   ]
  },
  {
   "cell_type": "code",
   "execution_count": 19,
   "id": "1372cba9",
   "metadata": {},
   "outputs": [
    {
     "name": "stderr",
     "output_type": "stream",
     "text": [
      "\n",
      "\n",
      "\n",
      "\n",
      "====== WebDriver manager ======\n",
      "====== WebDriver manager ======\n",
      "Current google-chrome version is 94.0.4606\n",
      "Current google-chrome version is 94.0.4606\n",
      "Get LATEST driver version for 94.0.4606\n",
      "Get LATEST driver version for 94.0.4606\n",
      "There is no [mac64] chromedriver for browser 94.0.4606 in cache\n",
      "There is no [mac64] chromedriver for browser 94.0.4606 in cache\n",
      "Get LATEST driver version for 94.0.4606\n",
      "Get LATEST driver version for 94.0.4606\n",
      "Trying to download new driver from https://chromedriver.storage.googleapis.com/94.0.4606.61/chromedriver_mac64.zip\n",
      "Trying to download new driver from https://chromedriver.storage.googleapis.com/94.0.4606.61/chromedriver_mac64.zip\n",
      "Driver has been saved in cache [/Users/lf/.wdm/drivers/chromedriver/mac64/94.0.4606.61]\n",
      "Driver has been saved in cache [/Users/lf/.wdm/drivers/chromedriver/mac64/94.0.4606.61]\n",
      "<ipython-input-19-fb40ad038ff0>:1: DeprecationWarning: use options instead of chrome_options\n",
      "  driver = webdriver.Chrome(ChromeDriverManager().install(), chrome_options=chrome_options)\n"
     ]
    }
   ],
   "source": [
    "driver = webdriver.Chrome(ChromeDriverManager().install(), chrome_options=chrome_options)"
   ]
  },
  {
   "cell_type": "code",
   "execution_count": 20,
   "id": "f80dd901",
   "metadata": {},
   "outputs": [],
   "source": [
    "# Query to obtain links\n",
    "\n",
    "artist_name = \"Nipsey Hussle\"\n",
    "birth_name_query = \"birthname\"\n",
    "\n",
    "query = str(artist_name + birth_name_query)\n",
    "links = [] # Initiate empty list to capture final results# Specify number of pages on google search, each page contains 10 #links\n",
    "n_pages = 20 \n",
    "for page in range(1, n_pages):\n",
    "    url = \"http://www.google.com/search?q=\" + query + \"&start=\" +      str((page - 1) * 10)\n",
    "    driver.get(url)\n",
    "    soup = BeautifulSoup(driver.page_source, 'html.parser')\n",
    "    # soup = BeautifulSoup(r.text, 'html.parser')\n",
    "\n",
    "    search = soup.find_all('div', class_=\"yuRUbf\")\n",
    "    for h in search:\n",
    "        links.append(h.a.get('href'))"
   ]
  },
  {
   "cell_type": "code",
   "execution_count": 26,
   "id": "fdd68853",
   "metadata": {},
   "outputs": [],
   "source": [
    "birth_names = []\n",
    "\n",
    "search_birthname = soup.find_all('div', class_=\"Z0LcW XcVN5d AZCkJd d2J77b\")\n",
    "for h in search_birthname:\n",
    "    birth_names.append(h.a.get('href'))\n"
   ]
  },
  {
   "cell_type": "code",
   "execution_count": 27,
   "id": "01f5af90",
   "metadata": {},
   "outputs": [
    {
     "data": {
      "text/plain": [
       "[]"
      ]
     },
     "execution_count": 27,
     "metadata": {},
     "output_type": "execute_result"
    }
   ],
   "source": [
    "birth_names"
   ]
  },
  {
   "cell_type": "code",
   "execution_count": null,
   "id": "4f76e49e",
   "metadata": {},
   "outputs": [],
   "source": []
  }
 ],
 "metadata": {
  "kernelspec": {
   "display_name": "Python 3",
   "language": "python",
   "name": "python3"
  },
  "language_info": {
   "codemirror_mode": {
    "name": "ipython",
    "version": 3
   },
   "file_extension": ".py",
   "mimetype": "text/x-python",
   "name": "python",
   "nbconvert_exporter": "python",
   "pygments_lexer": "ipython3",
   "version": "3.8.8"
  }
 },
 "nbformat": 4,
 "nbformat_minor": 5
}
